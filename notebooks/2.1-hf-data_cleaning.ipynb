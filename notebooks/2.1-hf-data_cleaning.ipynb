{
 "cells": [
  {
   "cell_type": "code",
   "execution_count": 1,
   "id": "e6b9d0d4-57b8-47e7-a9ff-d371814aa2ba",
   "metadata": {},
   "outputs": [],
   "source": [
    "import numpy as np\n",
    "import pandas as pd"
   ]
  },
  {
   "cell_type": "code",
   "execution_count": 2,
   "id": "d2a6c934-f616-404a-9334-4af9d722d45c",
   "metadata": {},
   "outputs": [],
   "source": [
    "from src.utils.clean import Clean"
   ]
  },
  {
   "cell_type": "code",
   "execution_count": 3,
   "id": "27a905eb-db3c-4fc8-af76-5295b91692ef",
   "metadata": {},
   "outputs": [],
   "source": [
    "clean = Clean()"
   ]
  },
  {
   "cell_type": "code",
   "execution_count": 4,
   "id": "b7f06386-683c-4025-b110-7a7aadd38784",
   "metadata": {},
   "outputs": [],
   "source": [
    "data = pd.read_csv('../data/raw/data.csv')"
   ]
  },
  {
   "cell_type": "code",
   "execution_count": 5,
   "id": "da610fba-2e17-4fe3-b288-bc04fa5a5bbe",
   "metadata": {},
   "outputs": [],
   "source": [
    "data = data.drop('Unnamed: 0', axis=1)"
   ]
  },
  {
   "cell_type": "code",
   "execution_count": 6,
   "id": "c7fc3a5a-5afc-4d99-b38e-ecbfabdefb6a",
   "metadata": {
    "scrolled": true
   },
   "outputs": [
    {
     "data": {
      "text/html": [
       "<div>\n",
       "<style scoped>\n",
       "    .dataframe tbody tr th:only-of-type {\n",
       "        vertical-align: middle;\n",
       "    }\n",
       "\n",
       "    .dataframe tbody tr th {\n",
       "        vertical-align: top;\n",
       "    }\n",
       "\n",
       "    .dataframe thead th {\n",
       "        text-align: right;\n",
       "    }\n",
       "</style>\n",
       "<table border=\"1\" class=\"dataframe\">\n",
       "  <thead>\n",
       "    <tr style=\"text-align: right;\">\n",
       "      <th></th>\n",
       "      <th>title</th>\n",
       "      <th>degrees</th>\n",
       "      <th>funds</th>\n",
       "      <th>date</th>\n",
       "      <th>location</th>\n",
       "    </tr>\n",
       "  </thead>\n",
       "  <tbody>\n",
       "    <tr>\n",
       "      <th>0</th>\n",
       "      <td>Schaefer Halleen’s Social Equity Scholarship</td>\n",
       "      <td>Master, Bachelor, Phd</td>\n",
       "      <td>$1000</td>\n",
       "      <td>30 June 2022</td>\n",
       "      <td>united-states</td>\n",
       "    </tr>\n",
       "    <tr>\n",
       "      <th>1</th>\n",
       "      <td>President’s Scholarship for Ukraine</td>\n",
       "      <td>Master, Bachelor, Phd, Course</td>\n",
       "      <td>$2500</td>\n",
       "      <td>31 July 2022</td>\n",
       "      <td>united-states</td>\n",
       "    </tr>\n",
       "    <tr>\n",
       "      <th>2</th>\n",
       "      <td>International Students Diversity Contest 2022-...</td>\n",
       "      <td>Master, Bachelor, Phd, Course</td>\n",
       "      <td>Up to $2,000</td>\n",
       "      <td>22 December 2022</td>\n",
       "      <td>united-states</td>\n",
       "    </tr>\n",
       "    <tr>\n",
       "      <th>3</th>\n",
       "      <td>Master in Business Administration 80% OFF your...</td>\n",
       "      <td>Master</td>\n",
       "      <td>80% Tuition Fees</td>\n",
       "      <td>15 September 2022</td>\n",
       "      <td>united-states</td>\n",
       "    </tr>\n",
       "    <tr>\n",
       "      <th>4</th>\n",
       "      <td>Improve Men’s Health Scholarship</td>\n",
       "      <td>Master, Bachelor, Phd</td>\n",
       "      <td>$2000</td>\n",
       "      <td>31 May 2022</td>\n",
       "      <td>united-states</td>\n",
       "    </tr>\n",
       "  </tbody>\n",
       "</table>\n",
       "</div>"
      ],
      "text/plain": [
       "                                               title  \\\n",
       "0       Schaefer Halleen’s Social Equity Scholarship   \n",
       "1                President’s Scholarship for Ukraine   \n",
       "2  International Students Diversity Contest 2022-...   \n",
       "3  Master in Business Administration 80% OFF your...   \n",
       "4                   Improve Men’s Health Scholarship   \n",
       "\n",
       "                         degrees             funds               date  \\\n",
       "0          Master, Bachelor, Phd             $1000       30 June 2022   \n",
       "1  Master, Bachelor, Phd, Course             $2500       31 July 2022   \n",
       "2  Master, Bachelor, Phd, Course      Up to $2,000   22 December 2022   \n",
       "3                         Master  80% Tuition Fees  15 September 2022   \n",
       "4          Master, Bachelor, Phd             $2000        31 May 2022   \n",
       "\n",
       "        location  \n",
       "0  united-states  \n",
       "1  united-states  \n",
       "2  united-states  \n",
       "3  united-states  \n",
       "4  united-states  "
      ]
     },
     "execution_count": 6,
     "metadata": {},
     "output_type": "execute_result"
    }
   ],
   "source": [
    "data.head()"
   ]
  },
  {
   "cell_type": "markdown",
   "id": "44c9d8a5-c063-42f3-864c-d100498595bd",
   "metadata": {},
   "source": [
    "# Fixing names"
   ]
  },
  {
   "cell_type": "code",
   "execution_count": 7,
   "id": "b8257ff0-36e7-47ca-8695-861f9cf6dd9c",
   "metadata": {},
   "outputs": [],
   "source": [
    "data = clean.headers(data)"
   ]
  },
  {
   "cell_type": "code",
   "execution_count": 8,
   "id": "654b194b-c36c-4461-8f17-cf12d0b1813a",
   "metadata": {},
   "outputs": [],
   "source": [
    "data = clean.categories(data)"
   ]
  },
  {
   "cell_type": "code",
   "execution_count": 9,
   "id": "2519a610-a7cc-4608-aa9a-9a5bdb99d662",
   "metadata": {},
   "outputs": [
    {
     "data": {
      "text/html": [
       "<div>\n",
       "<style scoped>\n",
       "    .dataframe tbody tr th:only-of-type {\n",
       "        vertical-align: middle;\n",
       "    }\n",
       "\n",
       "    .dataframe tbody tr th {\n",
       "        vertical-align: top;\n",
       "    }\n",
       "\n",
       "    .dataframe thead th {\n",
       "        text-align: right;\n",
       "    }\n",
       "</style>\n",
       "<table border=\"1\" class=\"dataframe\">\n",
       "  <thead>\n",
       "    <tr style=\"text-align: right;\">\n",
       "      <th></th>\n",
       "      <th>title</th>\n",
       "      <th>degrees</th>\n",
       "      <th>funds</th>\n",
       "      <th>date</th>\n",
       "      <th>location</th>\n",
       "    </tr>\n",
       "  </thead>\n",
       "  <tbody>\n",
       "    <tr>\n",
       "      <th>0</th>\n",
       "      <td>Schaefer Halleen’S Social Equity Scholarship</td>\n",
       "      <td>Master, Bachelor, Phd</td>\n",
       "      <td>$1000</td>\n",
       "      <td>30 June 2022</td>\n",
       "      <td>United States</td>\n",
       "    </tr>\n",
       "    <tr>\n",
       "      <th>1</th>\n",
       "      <td>President’S Scholarship For Ukraine</td>\n",
       "      <td>Master, Bachelor, Phd, Course</td>\n",
       "      <td>$2500</td>\n",
       "      <td>31 July 2022</td>\n",
       "      <td>United States</td>\n",
       "    </tr>\n",
       "    <tr>\n",
       "      <th>2</th>\n",
       "      <td>International Students Diversity Contest 2022 ...</td>\n",
       "      <td>Master, Bachelor, Phd, Course</td>\n",
       "      <td>Up To $2,000</td>\n",
       "      <td>22 December 2022</td>\n",
       "      <td>United States</td>\n",
       "    </tr>\n",
       "    <tr>\n",
       "      <th>3</th>\n",
       "      <td>Master In Business Administration 80% Off Your...</td>\n",
       "      <td>Master</td>\n",
       "      <td>80% Tuition Fees</td>\n",
       "      <td>15 September 2022</td>\n",
       "      <td>United States</td>\n",
       "    </tr>\n",
       "    <tr>\n",
       "      <th>4</th>\n",
       "      <td>Improve Men’S Health Scholarship</td>\n",
       "      <td>Master, Bachelor, Phd</td>\n",
       "      <td>$2000</td>\n",
       "      <td>31 May 2022</td>\n",
       "      <td>United States</td>\n",
       "    </tr>\n",
       "  </tbody>\n",
       "</table>\n",
       "</div>"
      ],
      "text/plain": [
       "                                               title  \\\n",
       "0       Schaefer Halleen’S Social Equity Scholarship   \n",
       "1                President’S Scholarship For Ukraine   \n",
       "2  International Students Diversity Contest 2022 ...   \n",
       "3  Master In Business Administration 80% Off Your...   \n",
       "4                   Improve Men’S Health Scholarship   \n",
       "\n",
       "                         degrees             funds               date  \\\n",
       "0          Master, Bachelor, Phd             $1000       30 June 2022   \n",
       "1  Master, Bachelor, Phd, Course             $2500       31 July 2022   \n",
       "2  Master, Bachelor, Phd, Course      Up To $2,000   22 December 2022   \n",
       "3                         Master  80% Tuition Fees  15 September 2022   \n",
       "4          Master, Bachelor, Phd             $2000        31 May 2022   \n",
       "\n",
       "        location  \n",
       "0  United States  \n",
       "1  United States  \n",
       "2  United States  \n",
       "3  United States  \n",
       "4  United States  "
      ]
     },
     "execution_count": 9,
     "metadata": {},
     "output_type": "execute_result"
    }
   ],
   "source": [
    "data.head()"
   ]
  },
  {
   "cell_type": "markdown",
   "id": "e5c4c0fb-4f93-4b2e-85bd-845d99264be2",
   "metadata": {},
   "source": [
    "# Fixing Degrees Column"
   ]
  },
  {
   "cell_type": "code",
   "execution_count": 10,
   "id": "62d42a12-9366-4d8a-aa53-3d40d8dc65fa",
   "metadata": {},
   "outputs": [
    {
     "data": {
      "text/plain": [
       "array(['Master, Bachelor, Phd', 'Master, Bachelor, Phd, Course', 'Master',\n",
       "       'Course', 'Master, Course', 'Bachelor', 'Master, Bachelor, Course',\n",
       "       'Phd', 'Bachelor, Master', 'Phd, Master', 'Master, Bachelor',\n",
       "       'Course, Master', 'Master, Phd', 'Bachelor, Master, Phd, Course',\n",
       "       'Bachelor, Master, Phd', 'Fully Funded', 'Not Funded', nan,\n",
       "       'Phd, Master, Bachelor, Course', 'Phd, Master, Bachelor',\n",
       "       'Bachelor, Course', 'Bachelor, Phd, Master'], dtype=object)"
      ]
     },
     "execution_count": 10,
     "metadata": {},
     "output_type": "execute_result"
    }
   ],
   "source": [
    "data.degrees.unique()"
   ]
  },
  {
   "cell_type": "code",
   "execution_count": 11,
   "id": "4bd7c10b-9a65-40c3-bd3b-6979a2be85a6",
   "metadata": {},
   "outputs": [
    {
     "data": {
      "text/plain": [
       "49"
      ]
     },
     "execution_count": 11,
     "metadata": {},
     "output_type": "execute_result"
    }
   ],
   "source": [
    "data.degrees.isna().sum()"
   ]
  },
  {
   "cell_type": "code",
   "execution_count": 12,
   "id": "7eb85c91-4ee9-4757-a0be-6cc66acb1596",
   "metadata": {},
   "outputs": [],
   "source": [
    "data.degrees.fillna('Not Specified', inplace=True)"
   ]
  },
  {
   "cell_type": "code",
   "execution_count": 13,
   "id": "e72c9f6f-c700-4474-aa9f-76953d73afca",
   "metadata": {},
   "outputs": [],
   "source": [
    "data.replace('Not Funded', 'Not Specified', inplace=True)\n",
    "data.replace('Fully Funded', 'Not Specified', inplace=True)"
   ]
  },
  {
   "cell_type": "code",
   "execution_count": 14,
   "id": "bbb711eb-8d4e-40a2-bf4d-503b7dd78f72",
   "metadata": {},
   "outputs": [],
   "source": [
    "categories = ['master', 'bachelor', 'phd', 'course']\n",
    "for category in categories:\n",
    "    data[category] = data['degrees'].str.contains(category, case=False, na=False).astype(int)"
   ]
  },
  {
   "cell_type": "code",
   "execution_count": 15,
   "id": "404bc9d4-69cf-49d5-90bc-b1c0bf9f35c5",
   "metadata": {},
   "outputs": [],
   "source": [
    "data = data.drop(['degrees', 'funds', 'date'], axis=1)"
   ]
  },
  {
   "cell_type": "code",
   "execution_count": 16,
   "id": "e12dd429-e99b-4d61-804d-67265cf63a84",
   "metadata": {},
   "outputs": [
    {
     "data": {
      "text/html": [
       "<div>\n",
       "<style scoped>\n",
       "    .dataframe tbody tr th:only-of-type {\n",
       "        vertical-align: middle;\n",
       "    }\n",
       "\n",
       "    .dataframe tbody tr th {\n",
       "        vertical-align: top;\n",
       "    }\n",
       "\n",
       "    .dataframe thead th {\n",
       "        text-align: right;\n",
       "    }\n",
       "</style>\n",
       "<table border=\"1\" class=\"dataframe\">\n",
       "  <thead>\n",
       "    <tr style=\"text-align: right;\">\n",
       "      <th></th>\n",
       "      <th>title</th>\n",
       "      <th>location</th>\n",
       "      <th>master</th>\n",
       "      <th>bachelor</th>\n",
       "      <th>phd</th>\n",
       "      <th>course</th>\n",
       "    </tr>\n",
       "  </thead>\n",
       "  <tbody>\n",
       "    <tr>\n",
       "      <th>0</th>\n",
       "      <td>Schaefer Halleen’S Social Equity Scholarship</td>\n",
       "      <td>United States</td>\n",
       "      <td>1</td>\n",
       "      <td>1</td>\n",
       "      <td>1</td>\n",
       "      <td>0</td>\n",
       "    </tr>\n",
       "    <tr>\n",
       "      <th>1</th>\n",
       "      <td>President’S Scholarship For Ukraine</td>\n",
       "      <td>United States</td>\n",
       "      <td>1</td>\n",
       "      <td>1</td>\n",
       "      <td>1</td>\n",
       "      <td>1</td>\n",
       "    </tr>\n",
       "    <tr>\n",
       "      <th>2</th>\n",
       "      <td>International Students Diversity Contest 2022 ...</td>\n",
       "      <td>United States</td>\n",
       "      <td>1</td>\n",
       "      <td>1</td>\n",
       "      <td>1</td>\n",
       "      <td>1</td>\n",
       "    </tr>\n",
       "    <tr>\n",
       "      <th>3</th>\n",
       "      <td>Master In Business Administration 80% Off Your...</td>\n",
       "      <td>United States</td>\n",
       "      <td>1</td>\n",
       "      <td>0</td>\n",
       "      <td>0</td>\n",
       "      <td>0</td>\n",
       "    </tr>\n",
       "    <tr>\n",
       "      <th>4</th>\n",
       "      <td>Improve Men’S Health Scholarship</td>\n",
       "      <td>United States</td>\n",
       "      <td>1</td>\n",
       "      <td>1</td>\n",
       "      <td>1</td>\n",
       "      <td>0</td>\n",
       "    </tr>\n",
       "  </tbody>\n",
       "</table>\n",
       "</div>"
      ],
      "text/plain": [
       "                                               title       location  master  \\\n",
       "0       Schaefer Halleen’S Social Equity Scholarship  United States       1   \n",
       "1                President’S Scholarship For Ukraine  United States       1   \n",
       "2  International Students Diversity Contest 2022 ...  United States       1   \n",
       "3  Master In Business Administration 80% Off Your...  United States       1   \n",
       "4                   Improve Men’S Health Scholarship  United States       1   \n",
       "\n",
       "   bachelor  phd  course  \n",
       "0         1    1       0  \n",
       "1         1    1       1  \n",
       "2         1    1       1  \n",
       "3         0    0       0  \n",
       "4         1    1       0  "
      ]
     },
     "execution_count": 16,
     "metadata": {},
     "output_type": "execute_result"
    }
   ],
   "source": [
    "data.head()"
   ]
  },
  {
   "cell_type": "code",
   "execution_count": 17,
   "id": "a699093b-4cab-4251-9815-4afa16ab4c95",
   "metadata": {},
   "outputs": [],
   "source": [
    "data.drop_duplicates(inplace=True)"
   ]
  },
  {
   "cell_type": "code",
   "execution_count": 18,
   "id": "cab45c7a-c88f-4ba8-bd0b-7f6e84904b73",
   "metadata": {},
   "outputs": [],
   "source": [
    "# data.to_csv('../data/interim/data.csv', index=False)"
   ]
  },
  {
   "cell_type": "markdown",
   "id": "84627a36-9163-4fcc-9cba-2c92accd943d",
   "metadata": {},
   "source": [
    "# Conclusion\n",
    "- Dropped the funds and date columns because there were too many unique values\n",
    "- Splitted the degrees column into four different columns\n",
    "- Dropped the duplicates\n",
    "- Saved the data for further analysis"
   ]
  }
 ],
 "metadata": {
  "kernelspec": {
   "display_name": "Python 3 (ipykernel)",
   "language": "python",
   "name": "python3"
  },
  "language_info": {
   "codemirror_mode": {
    "name": "ipython",
    "version": 3
   },
   "file_extension": ".py",
   "mimetype": "text/x-python",
   "name": "python",
   "nbconvert_exporter": "python",
   "pygments_lexer": "ipython3",
   "version": "3.11.1"
  }
 },
 "nbformat": 4,
 "nbformat_minor": 5
}
